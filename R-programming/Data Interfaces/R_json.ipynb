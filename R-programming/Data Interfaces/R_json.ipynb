{
 "cells": [
  {
   "cell_type": "code",
   "execution_count": 1,
   "metadata": {},
   "outputs": [
    {
     "name": "stdout",
     "output_type": "stream",
     "text": [
      "$id\n",
      "[1] \"1\" \"2\" \"3\" \"4\" \"5\" \"6\" \"7\" \"8\"\n",
      "\n",
      "$name\n",
      "[1] \"Shubham\"  \"Nishka\"   \"Gunjan\"   \"Sumit\"    \"Arpita\"   \"Vaishali\" \"Anisha\"  \n",
      "[8] \"Ginni\"   \n",
      "\n",
      "$salary\n",
      "[1] \"623\" \"552\" \"669\" \"825\" \"762\" \"882\" \"783\" \"964\"\n",
      "\n",
      "$start_date\n",
      "[1] \"1/1/2012\"   \"9/15/2013\"  \"11/23/2013\" \"5/11/2014\"  \"3/27/2015\" \n",
      "[6] \"5/21/2013\"  \"7/30/2013\"  \"6/17/2014\" \n",
      "\n",
      "$dept\n",
      "[1] \"IT\"         \"Operations\" \"Finance\"    \"HR\"         \"Finance\"   \n",
      "[6] \"IT\"         \"Operations\" \"Finance\"   \n",
      "\n"
     ]
    }
   ],
   "source": [
    "# Loading the package which is required to read JSON files.  \n",
    "library(\"rjson\")  \n",
    "  \n",
    "# Giving the input file name to the function fromJSON.  \n",
    "result <- fromJSON(file = \"employee_info.json\")  \n",
    "  \n",
    "# Printing the result.  \n",
    "print(result)  "
   ]
  },
  {
   "cell_type": "code",
   "execution_count": 2,
   "metadata": {},
   "outputs": [
    {
     "name": "stdout",
     "output_type": "stream",
     "text": [
      "  id     name salary start_date       dept\n",
      "1  1  Shubham    623   1/1/2012         IT\n",
      "2  2   Nishka    552  9/15/2013 Operations\n",
      "3  3   Gunjan    669 11/23/2013    Finance\n",
      "4  4    Sumit    825  5/11/2014         HR\n",
      "5  5   Arpita    762  3/27/2015    Finance\n",
      "6  6 Vaishali    882  5/21/2013         IT\n",
      "7  7   Anisha    783  7/30/2013 Operations\n",
      "8  8    Ginni    964  6/17/2014    Finance\n"
     ]
    }
   ],
   "source": [
    "# Loading the package which is required to read JSON files.  \n",
    "library(\"rjson\")  \n",
    "  \n",
    "# Giving the input file name to the function fromJSON.  \n",
    "result <- fromJSON(file = \"employee_info.json\")  \n",
    "  \n",
    "# Converting the JSON record to a data frame.  \n",
    "data_frame <- as.data.frame(result)  \n",
    "  \n",
    "#Printing JSON data frame  \n",
    "print(data_frame)  "
   ]
  },
  {
   "cell_type": "code",
   "execution_count": null,
   "metadata": {},
   "outputs": [],
   "source": []
  }
 ],
 "metadata": {
  "kernelspec": {
   "display_name": "R",
   "language": "R",
   "name": "ir"
  },
  "language_info": {
   "codemirror_mode": "r",
   "file_extension": ".r",
   "mimetype": "text/x-r-source",
   "name": "R",
   "pygments_lexer": "r",
   "version": "3.6.1"
  }
 },
 "nbformat": 4,
 "nbformat_minor": 4
}
