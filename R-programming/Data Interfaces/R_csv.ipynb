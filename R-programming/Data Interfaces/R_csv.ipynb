{
 "cells": [
  {
   "cell_type": "code",
   "execution_count": 1,
   "metadata": {},
   "outputs": [
    {
     "name": "stdout",
     "output_type": "stream",
     "text": [
      "  id     name salary start_date         dept\n",
      "1  1  Shubham 613.30 2012-01-01         IT  \n",
      "2  2   Arpita 525.20 2013-09-23 Operations  \n",
      "3  3 Vaishali  63.00 2014-11-15         IT  \n",
      "4  4   Nishka 749.00 2014-05-11         HR  \n",
      "5  5   Gunjan 863.25 2015-03-27    Finance  \n",
      "6  6    Sumit 588.00 2013-05-21         IT  \n",
      "7  7   Anisha 932.80 2013-07-30 Operations  \n",
      "8  8    Akash 712.50 2014-06-17     Financ  \n"
     ]
    }
   ],
   "source": [
    "data <- read.csv(\"record.csv\")  \n",
    "print(data)  "
   ]
  },
  {
   "cell_type": "code",
   "execution_count": 2,
   "metadata": {},
   "outputs": [
    {
     "name": "stdout",
     "output_type": "stream",
     "text": [
      "[1] TRUE\n",
      "[1] 5\n",
      "[1] 8\n"
     ]
    }
   ],
   "source": [
    "csv_data<- read.csv(\"record.csv\")  \n",
    "print(is.data.frame(csv_data))  \n",
    "print(ncol(csv_data))  \n",
    "print(nrow(csv_data))  "
   ]
  },
  {
   "cell_type": "code",
   "execution_count": 3,
   "metadata": {},
   "outputs": [
    {
     "name": "stdout",
     "output_type": "stream",
     "text": [
      "[1] 932.8\n"
     ]
    }
   ],
   "source": [
    "# Creating a data frame.  \n",
    "csv_data<- read.csv(\"record.csv\")  \n",
    "  \n",
    "# Getting the maximum salary from data frame.  \n",
    "max_sal<- max(csv_data$salary)  \n",
    "print(max_sal)  "
   ]
  },
  {
   "cell_type": "code",
   "execution_count": 5,
   "metadata": {},
   "outputs": [
    {
     "name": "stdout",
     "output_type": "stream",
     "text": [
      "  id   name salary start_date         dept\n",
      "7  7 Anisha  932.8 2013-07-30 Operations  \n"
     ]
    }
   ],
   "source": [
    "# Creating a data frame.  \n",
    "csv_data<- read.csv(\"record.csv\")  \n",
    "  \n",
    "#Getting the detais of the person who have maximum salary  \n",
    "details <- subset(csv_data,salary==max(salary))  \n",
    "print(details)  "
   ]
  },
  {
   "cell_type": "code",
   "execution_count": 7,
   "metadata": {},
   "outputs": [
    {
     "name": "stdout",
     "output_type": "stream",
     "text": [
      "  id     name salary start_date      dept\n",
      "3  3 Vaishali  63.00 2014-11-15      IT  \n",
      "4  4   Nishka 749.00 2014-05-11      HR  \n",
      "5  5   Gunjan 863.25 2015-03-27 Finance  \n",
      "8  8    Akash 712.50 2014-06-17  Financ  \n"
     ]
    }
   ],
   "source": [
    "# Creating a data frame.  \n",
    "csv_data<- read.csv(\"record.csv\")  \n",
    "  \n",
    "#Getting details of those peoples who joined on or after 2014  \n",
    "details <- subset(csv_data,as.Date(start_date)>as.Date(\"2014-01-01\"))  \n",
    "print(details)  "
   ]
  },
  {
   "cell_type": "code",
   "execution_count": 11,
   "metadata": {},
   "outputs": [
    {
     "name": "stdout",
     "output_type": "stream",
     "text": [
      "  X id     name salary start_date      dept\n",
      "1 3  3 Vaishali  63.00 2014-11-15      IT  \n",
      "2 4  4   Nishka 749.00 2014-05-11      HR  \n",
      "3 5  5   Gunjan 863.25 2015-03-27 Finance  \n",
      "4 8  8    Akash 712.50 2014-06-17  Financ  \n"
     ]
    }
   ],
   "source": [
    "csv_data<- read.csv(\"record.csv\")  \n",
    "  \n",
    "#Getting details of those peoples who joined on or after 2014  \n",
    "details <- subset(csv_data,as.Date(start_date)>as.Date(\"2014-01-01\"))  \n",
    "  \n",
    "# Writing filtered data into a new file.  \n",
    "write.csv(details,\"output.csv\")  \n",
    "new_details<- read.csv(\"output.csv\")  \n",
    "print(new_details)  "
   ]
  },
  {
   "cell_type": "code",
   "execution_count": null,
   "metadata": {},
   "outputs": [],
   "source": []
  }
 ],
 "metadata": {
  "kernelspec": {
   "display_name": "R",
   "language": "R",
   "name": "ir"
  },
  "language_info": {
   "codemirror_mode": "r",
   "file_extension": ".r",
   "mimetype": "text/x-r-source",
   "name": "R",
   "pygments_lexer": "r",
   "version": "3.6.1"
  }
 },
 "nbformat": 4,
 "nbformat_minor": 4
}
