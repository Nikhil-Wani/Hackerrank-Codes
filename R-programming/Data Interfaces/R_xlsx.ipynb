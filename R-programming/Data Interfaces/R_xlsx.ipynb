{
 "cells": [
  {
   "cell_type": "code",
   "execution_count": 1,
   "metadata": {},
   "outputs": [
    {
     "name": "stdout",
     "output_type": "stream",
     "text": [
      "  id     name salary start_date       dept..\n",
      "1  1  Shubham 613.30 2012-01-01         IT  \n",
      "2  2   Arpita 525.20 2013-09-23 Operations  \n",
      "3  3 Vaishali  63.00 2014-11-15         IT  \n",
      "4  4   Nishka 749.00 2014-05-11         HR  \n",
      "5  5   Gunjan 863.25 2015-03-27    Finance  \n",
      "6  6    Sumit 588.00 2013-05-21         IT  \n",
      "7  7   Anisha 932.80 2013-07-30 Operations  \n",
      "8  8    Akash 712.50 2014-06-17     Financ  \n"
     ]
    }
   ],
   "source": [
    "#Loading xlsx package  \n",
    "library(\"xlsx\")  \n",
    "  \n",
    "# Reading the first worksheet in the file employee.xlsx.  \n",
    "excel_data<- read.xlsx(\"employee.xlsx\", sheetIndex = 1)  \n",
    "print(excel_data)  "
   ]
  },
  {
   "cell_type": "code",
   "execution_count": 3,
   "metadata": {},
   "outputs": [
    {
     "name": "stdout",
     "output_type": "stream",
     "text": [
      "  id     name salary start_date       dept..\n",
      "1  1  Shubham 613.30 2012-01-01         IT  \n",
      "2  2   Arpita 525.20 2013-09-23 Operations  \n",
      "3  3 Vaishali  63.00 2014-11-15         IT  \n",
      "4  4   Nishka 749.00 2014-05-11         HR  \n",
      "5  5   Gunjan 863.25 2015-03-27    Finance  \n",
      "6  6    Sumit 588.00 2013-05-21         IT  \n",
      "7  7   Anisha 932.80 2013-07-30 Operations  \n",
      "8  8    Akash 712.50 2014-06-17     Financ  \n",
      "  NA.     name salary start_date       dept\n",
      "1   1    Raman 623.30 2012-01-01 Operations\n",
      "2   2    Rafia 915.20 2013-09-23         IT\n",
      "3   3 Himanshu 611.00 2014-11-15         HR\n",
      "4   4  jasmine 729.00 2014-05-11         IT\n",
      "5   5     Yash 843.25 2015-03-27    Finance\n"
     ]
    }
   ],
   "source": [
    "#Loading xlsx package  \n",
    "library(\"xlsx\")  \n",
    "  \n",
    "#Creating data frame  \n",
    "emp.data<- data.frame(    \n",
    "name = c(\"Raman\",\"Rafia\",\"Himanshu\",\"jasmine\",\"Yash\"),    \n",
    "salary = c(623.3,915.2,611.0,729.0,843.25),     \n",
    "start_date = as.Date(c(\"2012-01-01\", \"2013-09-23\", \"2014-11-15\", \"2014-05-11\",\"2015-03-27\")),  \n",
    "dept = c(\"Operations\",\"IT\",\"HR\",\"IT\",\"Finance\"),    \n",
    "stringsAsFactors = FALSE    \n",
    ")    \n",
    "  \n",
    "# Writing the first data set in employee.xlsxRscript  \n",
    "write.xlsx(emp.data, file = \"employee.xlsx\", col.names=TRUE, row.names=TRUE,sheetName=\"Sheet2\",append = TRUE)  \n",
    "      \n",
    "# Reading the first worksheet in the file employee.xlsx.  \n",
    "excel_data<- read.xlsx(\"employee.xlsx\", sheetIndex = 1)  \n",
    "print(excel_data)  \n",
    "  \n",
    "# Reading the first worksheet in the file employee.xlsx.  \n",
    "excel_data<- read.xlsx(\"employee.xlsx\", sheetIndex = 2)  \n",
    "print(excel_data)  "
   ]
  },
  {
   "cell_type": "code",
   "execution_count": null,
   "metadata": {},
   "outputs": [],
   "source": []
  }
 ],
 "metadata": {
  "kernelspec": {
   "display_name": "R",
   "language": "R",
   "name": "ir"
  },
  "language_info": {
   "codemirror_mode": "r",
   "file_extension": ".r",
   "mimetype": "text/x-r-source",
   "name": "R",
   "pygments_lexer": "r",
   "version": "3.6.1"
  }
 },
 "nbformat": 4,
 "nbformat_minor": 4
}
