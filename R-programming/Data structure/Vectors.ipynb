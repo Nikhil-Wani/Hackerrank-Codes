{
 "cells": [
  {
   "cell_type": "code",
   "execution_count": 4,
   "metadata": {},
   "outputs": [],
   "source": [
    "# vector"
   ]
  },
  {
   "cell_type": "code",
   "execution_count": 1,
   "metadata": {},
   "outputs": [
    {
     "data": {
      "text/html": [
       "<ol class=list-inline>\n",
       "\t<li>4</li>\n",
       "\t<li>3</li>\n",
       "\t<li>2</li>\n",
       "\t<li>1</li>\n",
       "\t<li>0</li>\n",
       "\t<li>-1</li>\n",
       "\t<li>-2</li>\n",
       "\t<li>-3</li>\n",
       "\t<li>-4</li>\n",
       "\t<li>-5</li>\n",
       "\t<li>-6</li>\n",
       "\t<li>-7</li>\n",
       "\t<li>-8</li>\n",
       "\t<li>-9</li>\n",
       "\t<li>-10</li>\n",
       "</ol>\n"
      ],
      "text/latex": [
       "\\begin{enumerate*}\n",
       "\\item 4\n",
       "\\item 3\n",
       "\\item 2\n",
       "\\item 1\n",
       "\\item 0\n",
       "\\item -1\n",
       "\\item -2\n",
       "\\item -3\n",
       "\\item -4\n",
       "\\item -5\n",
       "\\item -6\n",
       "\\item -7\n",
       "\\item -8\n",
       "\\item -9\n",
       "\\item -10\n",
       "\\end{enumerate*}\n"
      ],
      "text/markdown": [
       "1. 4\n",
       "2. 3\n",
       "3. 2\n",
       "4. 1\n",
       "5. 0\n",
       "6. -1\n",
       "7. -2\n",
       "8. -3\n",
       "9. -4\n",
       "10. -5\n",
       "11. -6\n",
       "12. -7\n",
       "13. -8\n",
       "14. -9\n",
       "15. -10\n",
       "\n",
       "\n"
      ],
      "text/plain": [
       " [1]   4   3   2   1   0  -1  -2  -3  -4  -5  -6  -7  -8  -9 -10"
      ]
     },
     "metadata": {},
     "output_type": "display_data"
    }
   ],
   "source": [
    "a<-4:-10  \n",
    "a  "
   ]
  },
  {
   "cell_type": "code",
   "execution_count": 2,
   "metadata": {},
   "outputs": [
    {
     "data": {
      "text/html": [
       "<ol class=list-inline>\n",
       "\t<li>1</li>\n",
       "\t<li>1.5</li>\n",
       "\t<li>2</li>\n",
       "\t<li>2.5</li>\n",
       "\t<li>3</li>\n",
       "\t<li>3.5</li>\n",
       "\t<li>4</li>\n",
       "</ol>\n"
      ],
      "text/latex": [
       "\\begin{enumerate*}\n",
       "\\item 1\n",
       "\\item 1.5\n",
       "\\item 2\n",
       "\\item 2.5\n",
       "\\item 3\n",
       "\\item 3.5\n",
       "\\item 4\n",
       "\\end{enumerate*}\n"
      ],
      "text/markdown": [
       "1. 1\n",
       "2. 1.5\n",
       "3. 2\n",
       "4. 2.5\n",
       "5. 3\n",
       "6. 3.5\n",
       "7. 4\n",
       "\n",
       "\n"
      ],
      "text/plain": [
       "[1] 1.0 1.5 2.0 2.5 3.0 3.5 4.0"
      ]
     },
     "metadata": {},
     "output_type": "display_data"
    },
    {
     "data": {
      "text/html": [
       "'numeric'"
      ],
      "text/latex": [
       "'numeric'"
      ],
      "text/markdown": [
       "'numeric'"
      ],
      "text/plain": [
       "[1] \"numeric\""
      ]
     },
     "metadata": {},
     "output_type": "display_data"
    }
   ],
   "source": [
    "seq_vec<-seq(1,4,by=0.5)  \n",
    "seq_vec  \n",
    "class(seq_vec)  "
   ]
  },
  {
   "cell_type": "code",
   "execution_count": 5,
   "metadata": {},
   "outputs": [],
   "source": [
    "# atomic vector"
   ]
  },
  {
   "cell_type": "code",
   "execution_count": 6,
   "metadata": {},
   "outputs": [
    {
     "data": {
      "text/html": [
       "45.5"
      ],
      "text/latex": [
       "45.5"
      ],
      "text/markdown": [
       "45.5"
      ],
      "text/plain": [
       "[1] 45.5"
      ]
     },
     "metadata": {},
     "output_type": "display_data"
    },
    {
     "data": {
      "text/html": [
       "<ol class=list-inline>\n",
       "\t<li>10.1</li>\n",
       "\t<li>10.2</li>\n",
       "\t<li>33.2</li>\n",
       "</ol>\n"
      ],
      "text/latex": [
       "\\begin{enumerate*}\n",
       "\\item 10.1\n",
       "\\item 10.2\n",
       "\\item 33.2\n",
       "\\end{enumerate*}\n"
      ],
      "text/markdown": [
       "1. 10.1\n",
       "2. 10.2\n",
       "3. 33.2\n",
       "\n",
       "\n"
      ],
      "text/plain": [
       "[1] 10.1 10.2 33.2"
      ]
     },
     "metadata": {},
     "output_type": "display_data"
    },
    {
     "data": {
      "text/html": [
       "'numeric'"
      ],
      "text/latex": [
       "'numeric'"
      ],
      "text/markdown": [
       "'numeric'"
      ],
      "text/plain": [
       "[1] \"numeric\""
      ]
     },
     "metadata": {},
     "output_type": "display_data"
    },
    {
     "data": {
      "text/html": [
       "'numeric'"
      ],
      "text/latex": [
       "'numeric'"
      ],
      "text/markdown": [
       "'numeric'"
      ],
      "text/plain": [
       "[1] \"numeric\""
      ]
     },
     "metadata": {},
     "output_type": "display_data"
    }
   ],
   "source": [
    "d<-45.5  \n",
    "num_vec<-c(10.1, 10.2, 33.2)  \n",
    "d  \n",
    "num_vec  \n",
    "class(d)  \n",
    "class(num_vec)  "
   ]
  },
  {
   "cell_type": "code",
   "execution_count": 7,
   "metadata": {},
   "outputs": [
    {
     "data": {
      "text/html": [
       "'integer'"
      ],
      "text/latex": [
       "'integer'"
      ],
      "text/markdown": [
       "'integer'"
      ],
      "text/plain": [
       "[1] \"integer\""
      ]
     },
     "metadata": {},
     "output_type": "display_data"
    },
    {
     "data": {
      "text/html": [
       "'integer'"
      ],
      "text/latex": [
       "'integer'"
      ],
      "text/markdown": [
       "'integer'"
      ],
      "text/plain": [
       "[1] \"integer\""
      ]
     },
     "metadata": {},
     "output_type": "display_data"
    },
    {
     "data": {
      "text/html": [
       "'integer'"
      ],
      "text/latex": [
       "'integer'"
      ],
      "text/markdown": [
       "'integer'"
      ],
      "text/plain": [
       "[1] \"integer\""
      ]
     },
     "metadata": {},
     "output_type": "display_data"
    },
    {
     "data": {
      "text/html": [
       "'integer'"
      ],
      "text/latex": [
       "'integer'"
      ],
      "text/markdown": [
       "'integer'"
      ],
      "text/plain": [
       "[1] \"integer\""
      ]
     },
     "metadata": {},
     "output_type": "display_data"
    }
   ],
   "source": [
    "d<-as.integer(5)  \n",
    "e<-5L  \n",
    "int_vec<-c(1,2,3,4,5)  \n",
    "int_vec<-as.integer(int_vec)  \n",
    "int_vec1<-c(1L,2L,3L,4L,5L)  \n",
    "class(d)  \n",
    "class(e)  \n",
    "class(int_vec)  \n",
    "class(int_vec1)  "
   ]
  },
  {
   "cell_type": "code",
   "execution_count": 8,
   "metadata": {},
   "outputs": [
    {
     "data": {
      "text/html": [
       "'shubham'"
      ],
      "text/latex": [
       "'shubham'"
      ],
      "text/markdown": [
       "'shubham'"
      ],
      "text/plain": [
       "[1] \"shubham\""
      ]
     },
     "metadata": {},
     "output_type": "display_data"
    },
    {
     "data": {
      "text/html": [
       "'Arpita'"
      ],
      "text/latex": [
       "'Arpita'"
      ],
      "text/markdown": [
       "'Arpita'"
      ],
      "text/plain": [
       "[1] \"Arpita\""
      ]
     },
     "metadata": {},
     "output_type": "display_data"
    },
    {
     "data": {
      "text/html": [
       "'65'"
      ],
      "text/latex": [
       "'65'"
      ],
      "text/markdown": [
       "'65'"
      ],
      "text/plain": [
       "[1] \"65\""
      ]
     },
     "metadata": {},
     "output_type": "display_data"
    },
    {
     "data": {
      "text/html": [
       "<ol class=list-inline>\n",
       "\t<li>'1'</li>\n",
       "\t<li>'2'</li>\n",
       "\t<li>'3'</li>\n",
       "\t<li>'4'</li>\n",
       "\t<li>'5'</li>\n",
       "</ol>\n"
      ],
      "text/latex": [
       "\\begin{enumerate*}\n",
       "\\item '1'\n",
       "\\item '2'\n",
       "\\item '3'\n",
       "\\item '4'\n",
       "\\item '5'\n",
       "\\end{enumerate*}\n"
      ],
      "text/markdown": [
       "1. '1'\n",
       "2. '2'\n",
       "3. '3'\n",
       "4. '4'\n",
       "5. '5'\n",
       "\n",
       "\n"
      ],
      "text/plain": [
       "[1] \"1\" \"2\" \"3\" \"4\" \"5\""
      ]
     },
     "metadata": {},
     "output_type": "display_data"
    },
    {
     "data": {
      "text/html": [
       "'character'"
      ],
      "text/latex": [
       "'character'"
      ],
      "text/markdown": [
       "'character'"
      ],
      "text/plain": [
       "[1] \"character\""
      ]
     },
     "metadata": {},
     "output_type": "display_data"
    },
    {
     "data": {
      "text/html": [
       "'character'"
      ],
      "text/latex": [
       "'character'"
      ],
      "text/markdown": [
       "'character'"
      ],
      "text/plain": [
       "[1] \"character\""
      ]
     },
     "metadata": {},
     "output_type": "display_data"
    },
    {
     "data": {
      "text/html": [
       "'character'"
      ],
      "text/latex": [
       "'character'"
      ],
      "text/markdown": [
       "'character'"
      ],
      "text/plain": [
       "[1] \"character\""
      ]
     },
     "metadata": {},
     "output_type": "display_data"
    },
    {
     "data": {
      "text/html": [
       "'character'"
      ],
      "text/latex": [
       "'character'"
      ],
      "text/markdown": [
       "'character'"
      ],
      "text/plain": [
       "[1] \"character\""
      ]
     },
     "metadata": {},
     "output_type": "display_data"
    },
    {
     "data": {
      "text/html": [
       "'character'"
      ],
      "text/latex": [
       "'character'"
      ],
      "text/markdown": [
       "'character'"
      ],
      "text/plain": [
       "[1] \"character\""
      ]
     },
     "metadata": {},
     "output_type": "display_data"
    }
   ],
   "source": [
    "d<-'shubham'  \n",
    "e<-\"Arpita\"  \n",
    "f<-65  \n",
    "f<-as.character(f)  \n",
    "d  \n",
    "e  \n",
    "f  \n",
    "char_vec<-c(1,2,3,4,5)  \n",
    "char_vec<-as.character(char_vec)  \n",
    "char_vec1<-c(\"shubham\",\"arpita\",\"nishka\",\"vaishali\")  \n",
    "char_vec  \n",
    "class(d)  \n",
    "class(e)  \n",
    "class(f)  \n",
    "class(char_vec)  \n",
    "class(char_vec1)  "
   ]
  },
  {
   "cell_type": "code",
   "execution_count": 9,
   "metadata": {},
   "outputs": [
    {
     "data": {
      "text/html": [
       "FALSE"
      ],
      "text/latex": [
       "FALSE"
      ],
      "text/markdown": [
       "FALSE"
      ],
      "text/plain": [
       "[1] FALSE"
      ]
     },
     "metadata": {},
     "output_type": "display_data"
    },
    {
     "data": {
      "text/html": [
       "TRUE"
      ],
      "text/latex": [
       "TRUE"
      ],
      "text/markdown": [
       "TRUE"
      ],
      "text/plain": [
       "[1] TRUE"
      ]
     },
     "metadata": {},
     "output_type": "display_data"
    },
    {
     "data": {
      "text/html": [
       "<ol class=list-inline>\n",
       "\t<li>TRUE</li>\n",
       "\t<li>TRUE</li>\n",
       "\t<li>FALSE</li>\n",
       "\t<li>TRUE</li>\n",
       "\t<li>FALSE</li>\n",
       "\t<li>FALSE</li>\n",
       "</ol>\n"
      ],
      "text/latex": [
       "\\begin{enumerate*}\n",
       "\\item TRUE\n",
       "\\item TRUE\n",
       "\\item FALSE\n",
       "\\item TRUE\n",
       "\\item FALSE\n",
       "\\item FALSE\n",
       "\\end{enumerate*}\n"
      ],
      "text/markdown": [
       "1. TRUE\n",
       "2. TRUE\n",
       "3. FALSE\n",
       "4. TRUE\n",
       "5. FALSE\n",
       "6. FALSE\n",
       "\n",
       "\n"
      ],
      "text/plain": [
       "[1]  TRUE  TRUE FALSE  TRUE FALSE FALSE"
      ]
     },
     "metadata": {},
     "output_type": "display_data"
    },
    {
     "data": {
      "text/html": [
       "'logical'"
      ],
      "text/latex": [
       "'logical'"
      ],
      "text/markdown": [
       "'logical'"
      ],
      "text/plain": [
       "[1] \"logical\""
      ]
     },
     "metadata": {},
     "output_type": "display_data"
    },
    {
     "data": {
      "text/html": [
       "'logical'"
      ],
      "text/latex": [
       "'logical'"
      ],
      "text/markdown": [
       "'logical'"
      ],
      "text/plain": [
       "[1] \"logical\""
      ]
     },
     "metadata": {},
     "output_type": "display_data"
    },
    {
     "data": {
      "text/html": [
       "'logical'"
      ],
      "text/latex": [
       "'logical'"
      ],
      "text/markdown": [
       "'logical'"
      ],
      "text/plain": [
       "[1] \"logical\""
      ]
     },
     "metadata": {},
     "output_type": "display_data"
    }
   ],
   "source": [
    "d<-as.integer(5)  \n",
    "e<-as.integer(6)  \n",
    "f<-as.integer(7)  \n",
    "g<-d>e  \n",
    "h<-e<f  \n",
    "g  \n",
    "h  \n",
    "log_vec<-c(d<e, d<f, e<d,e<f,f<d,f<e)  \n",
    "log_vec  \n",
    "class(g)  \n",
    "class(h)  \n",
    "class(log_vec)  "
   ]
  },
  {
   "cell_type": "code",
   "execution_count": 10,
   "metadata": {},
   "outputs": [],
   "source": [
    "# Accessing elements of vector"
   ]
  },
  {
   "cell_type": "code",
   "execution_count": 11,
   "metadata": {},
   "outputs": [
    {
     "data": {
      "text/html": [
       "<ol class=list-inline>\n",
       "\t<li>1</li>\n",
       "\t<li>1.6</li>\n",
       "\t<li>2.2</li>\n",
       "\t<li>2.8</li>\n",
       "\t<li>3.4</li>\n",
       "\t<li>4</li>\n",
       "</ol>\n"
      ],
      "text/latex": [
       "\\begin{enumerate*}\n",
       "\\item 1\n",
       "\\item 1.6\n",
       "\\item 2.2\n",
       "\\item 2.8\n",
       "\\item 3.4\n",
       "\\item 4\n",
       "\\end{enumerate*}\n"
      ],
      "text/markdown": [
       "1. 1\n",
       "2. 1.6\n",
       "3. 2.2\n",
       "4. 2.8\n",
       "5. 3.4\n",
       "6. 4\n",
       "\n",
       "\n"
      ],
      "text/plain": [
       "[1] 1.0 1.6 2.2 2.8 3.4 4.0"
      ]
     },
     "metadata": {},
     "output_type": "display_data"
    },
    {
     "data": {
      "text/html": [
       "1.6"
      ],
      "text/latex": [
       "1.6"
      ],
      "text/markdown": [
       "1.6"
      ],
      "text/plain": [
       "[1] 1.6"
      ]
     },
     "metadata": {},
     "output_type": "display_data"
    }
   ],
   "source": [
    "seq_vec<-seq(1,4,length.out=6)  \n",
    "seq_vec  \n",
    "seq_vec[2]  "
   ]
  },
  {
   "cell_type": "code",
   "execution_count": 12,
   "metadata": {},
   "outputs": [
    {
     "data": {
      "text/html": [
       "<dl class=dl-horizontal>\n",
       "\t<dt>shubham</dt>\n",
       "\t\t<dd>22</dd>\n",
       "\t<dt>arpita</dt>\n",
       "\t\t<dd>23</dd>\n",
       "\t<dt>vaishali</dt>\n",
       "\t\t<dd>25</dd>\n",
       "</dl>\n"
      ],
      "text/latex": [
       "\\begin{description*}\n",
       "\\item[shubham] 22\n",
       "\\item[arpita] 23\n",
       "\\item[vaishali] 25\n",
       "\\end{description*}\n"
      ],
      "text/markdown": [
       "shubham\n",
       ":   22arpita\n",
       ":   23vaishali\n",
       ":   25\n",
       "\n"
      ],
      "text/plain": [
       " shubham   arpita vaishali \n",
       "      22       23       25 "
      ]
     },
     "metadata": {},
     "output_type": "display_data"
    },
    {
     "data": {
      "text/html": [
       "<strong>arpita:</strong> 23"
      ],
      "text/latex": [
       "\\textbf{arpita:} 23"
      ],
      "text/markdown": [
       "**arpita:** 23"
      ],
      "text/plain": [
       "arpita \n",
       "    23 "
      ]
     },
     "metadata": {},
     "output_type": "display_data"
    }
   ],
   "source": [
    "char_vec<-c(\"shubham\"=22,\"arpita\"=23,\"vaishali\"=25)  \n",
    "char_vec  \n",
    "char_vec[\"arpita\"]  "
   ]
  },
  {
   "cell_type": "code",
   "execution_count": 13,
   "metadata": {},
   "outputs": [
    {
     "data": {
      "text/html": [
       "<ol class=list-inline>\n",
       "\t<li>1</li>\n",
       "\t<li>3</li>\n",
       "\t<li>4</li>\n",
       "\t<li>6</li>\n",
       "</ol>\n"
      ],
      "text/latex": [
       "\\begin{enumerate*}\n",
       "\\item 1\n",
       "\\item 3\n",
       "\\item 4\n",
       "\\item 6\n",
       "\\end{enumerate*}\n"
      ],
      "text/markdown": [
       "1. 1\n",
       "2. 3\n",
       "3. 4\n",
       "4. 6\n",
       "\n",
       "\n"
      ],
      "text/plain": [
       "[1] 1 3 4 6"
      ]
     },
     "metadata": {},
     "output_type": "display_data"
    }
   ],
   "source": [
    "a<-c(1,2,3,4,5,6)  \n",
    "a[c(TRUE,FALSE,TRUE,TRUE,FALSE,TRUE)]  "
   ]
  },
  {
   "cell_type": "code",
   "execution_count": 14,
   "metadata": {},
   "outputs": [],
   "source": [
    "# Vector operation"
   ]
  },
  {
   "cell_type": "code",
   "execution_count": 19,
   "metadata": {},
   "outputs": [
    {
     "data": {
      "text/html": [
       "<ol class=list-inline>\n",
       "\t<li>'1'</li>\n",
       "\t<li>'2'</li>\n",
       "\t<li>'4'</li>\n",
       "\t<li>'5'</li>\n",
       "\t<li>'7'</li>\n",
       "\t<li>'8'</li>\n",
       "\t<li>'shubham'</li>\n",
       "\t<li>'arpita'</li>\n",
       "\t<li>'nishka'</li>\n",
       "\t<li>'gunjan'</li>\n",
       "\t<li>'vaishali'</li>\n",
       "\t<li>'sumit'</li>\n",
       "</ol>\n"
      ],
      "text/latex": [
       "\\begin{enumerate*}\n",
       "\\item '1'\n",
       "\\item '2'\n",
       "\\item '4'\n",
       "\\item '5'\n",
       "\\item '7'\n",
       "\\item '8'\n",
       "\\item 'shubham'\n",
       "\\item 'arpita'\n",
       "\\item 'nishka'\n",
       "\\item 'gunjan'\n",
       "\\item 'vaishali'\n",
       "\\item 'sumit'\n",
       "\\end{enumerate*}\n"
      ],
      "text/markdown": [
       "1. '1'\n",
       "2. '2'\n",
       "3. '4'\n",
       "4. '5'\n",
       "5. '7'\n",
       "6. '8'\n",
       "7. 'shubham'\n",
       "8. 'arpita'\n",
       "9. 'nishka'\n",
       "10. 'gunjan'\n",
       "11. 'vaishali'\n",
       "12. 'sumit'\n",
       "\n",
       "\n"
      ],
      "text/plain": [
       " [1] \"1\"        \"2\"        \"4\"        \"5\"        \"7\"        \"8\"       \n",
       " [7] \"shubham\"  \"arpita\"   \"nishka\"   \"gunjan\"   \"vaishali\" \"sumit\"   "
      ]
     },
     "metadata": {},
     "output_type": "display_data"
    }
   ],
   "source": [
    "p<-c(1,2,4,5,7,8)  \n",
    "q<-c(\"shubham\",\"arpita\",\"nishka\",\"gunjan\",\"vaishali\",\"sumit\")  \n",
    "r<-c(p,q)\n",
    "r"
   ]
  },
  {
   "cell_type": "code",
   "execution_count": 17,
   "metadata": {},
   "outputs": [
    {
     "data": {
      "text/html": [
       "<ol class=list-inline>\n",
       "\t<li>3</li>\n",
       "\t<li>7</li>\n",
       "\t<li>11</li>\n",
       "\t<li>15</li>\n",
       "</ol>\n"
      ],
      "text/latex": [
       "\\begin{enumerate*}\n",
       "\\item 3\n",
       "\\item 7\n",
       "\\item 11\n",
       "\\item 15\n",
       "\\end{enumerate*}\n"
      ],
      "text/markdown": [
       "1. 3\n",
       "2. 7\n",
       "3. 11\n",
       "4. 15\n",
       "\n",
       "\n"
      ],
      "text/plain": [
       "[1]  3  7 11 15"
      ]
     },
     "metadata": {},
     "output_type": "display_data"
    },
    {
     "data": {
      "text/html": [
       "<ol class=list-inline>\n",
       "\t<li>-1</li>\n",
       "\t<li>-1</li>\n",
       "\t<li>-1</li>\n",
       "\t<li>-1</li>\n",
       "</ol>\n"
      ],
      "text/latex": [
       "\\begin{enumerate*}\n",
       "\\item -1\n",
       "\\item -1\n",
       "\\item -1\n",
       "\\item -1\n",
       "\\end{enumerate*}\n"
      ],
      "text/markdown": [
       "1. -1\n",
       "2. -1\n",
       "3. -1\n",
       "4. -1\n",
       "\n",
       "\n"
      ],
      "text/plain": [
       "[1] -1 -1 -1 -1"
      ]
     },
     "metadata": {},
     "output_type": "display_data"
    },
    {
     "data": {
      "text/html": [
       "<ol class=list-inline>\n",
       "\t<li>0.5</li>\n",
       "\t<li>0.75</li>\n",
       "\t<li>0.833333333333333</li>\n",
       "\t<li>0.875</li>\n",
       "</ol>\n"
      ],
      "text/latex": [
       "\\begin{enumerate*}\n",
       "\\item 0.5\n",
       "\\item 0.75\n",
       "\\item 0.833333333333333\n",
       "\\item 0.875\n",
       "\\end{enumerate*}\n"
      ],
      "text/markdown": [
       "1. 0.5\n",
       "2. 0.75\n",
       "3. 0.833333333333333\n",
       "4. 0.875\n",
       "\n",
       "\n"
      ],
      "text/plain": [
       "[1] 0.5000000 0.7500000 0.8333333 0.8750000"
      ]
     },
     "metadata": {},
     "output_type": "display_data"
    },
    {
     "data": {
      "text/html": [
       "<ol class=list-inline>\n",
       "\t<li>1</li>\n",
       "\t<li>3</li>\n",
       "\t<li>5</li>\n",
       "\t<li>7</li>\n",
       "</ol>\n"
      ],
      "text/latex": [
       "\\begin{enumerate*}\n",
       "\\item 1\n",
       "\\item 3\n",
       "\\item 5\n",
       "\\item 7\n",
       "\\end{enumerate*}\n"
      ],
      "text/markdown": [
       "1. 1\n",
       "2. 3\n",
       "3. 5\n",
       "4. 7\n",
       "\n",
       "\n"
      ],
      "text/plain": [
       "[1] 1 3 5 7"
      ]
     },
     "metadata": {},
     "output_type": "display_data"
    }
   ],
   "source": [
    "a<-c(1,3,5,7)  \n",
    "b<-c(2,4,6,8)  \n",
    "a+b  \n",
    "a-b  \n",
    "a/b  \n",
    "a%%b  "
   ]
  },
  {
   "cell_type": "code",
   "execution_count": 20,
   "metadata": {},
   "outputs": [
    {
     "data": {
      "text/html": [
       "<ol class=list-inline>\n",
       "\t<li>'Shubham'</li>\n",
       "\t<li>'Nishka'</li>\n",
       "\t<li>'Vaishali'</li>\n",
       "</ol>\n"
      ],
      "text/latex": [
       "\\begin{enumerate*}\n",
       "\\item 'Shubham'\n",
       "\\item 'Nishka'\n",
       "\\item 'Vaishali'\n",
       "\\end{enumerate*}\n"
      ],
      "text/markdown": [
       "1. 'Shubham'\n",
       "2. 'Nishka'\n",
       "3. 'Vaishali'\n",
       "\n",
       "\n"
      ],
      "text/plain": [
       "[1] \"Shubham\"  \"Nishka\"   \"Vaishali\""
      ]
     },
     "metadata": {},
     "output_type": "display_data"
    }
   ],
   "source": [
    "a<-c(\"Shubham\",\"Arpita\",\"Nishka\",\"Vaishali\",\"Sumit\",\"Gunjan\")  \n",
    "b<-c(TRUE,FALSE,TRUE,TRUE,FALSE,FALSE)  \n",
    "a[b]  "
   ]
  },
  {
   "cell_type": "code",
   "execution_count": 21,
   "metadata": {},
   "outputs": [
    {
     "data": {
      "text/html": [
       "'arpita'"
      ],
      "text/latex": [
       "'arpita'"
      ],
      "text/markdown": [
       "'arpita'"
      ],
      "text/plain": [
       "[1] \"arpita\""
      ]
     },
     "metadata": {},
     "output_type": "display_data"
    },
    {
     "data": {
      "text/html": [
       "<ol class=list-inline>\n",
       "\t<li>'shubham'</li>\n",
       "\t<li>'arpita'</li>\n",
       "\t<li>'gunjan'</li>\n",
       "\t<li>'vaishali'</li>\n",
       "\t<li>'sumit'</li>\n",
       "</ol>\n"
      ],
      "text/latex": [
       "\\begin{enumerate*}\n",
       "\\item 'shubham'\n",
       "\\item 'arpita'\n",
       "\\item 'gunjan'\n",
       "\\item 'vaishali'\n",
       "\\item 'sumit'\n",
       "\\end{enumerate*}\n"
      ],
      "text/markdown": [
       "1. 'shubham'\n",
       "2. 'arpita'\n",
       "3. 'gunjan'\n",
       "4. 'vaishali'\n",
       "5. 'sumit'\n",
       "\n",
       "\n"
      ],
      "text/plain": [
       "[1] \"shubham\"  \"arpita\"   \"gunjan\"   \"vaishali\" \"sumit\"   "
      ]
     },
     "metadata": {},
     "output_type": "display_data"
    },
    {
     "data": {
      "text/html": [
       "NA"
      ],
      "text/latex": [
       "NA"
      ],
      "text/markdown": [
       "NA"
      ],
      "text/plain": [
       "[1] NA"
      ]
     },
     "metadata": {},
     "output_type": "display_data"
    }
   ],
   "source": [
    "q<-c(\"shubham\",\"arpita\",\"nishka\",\"gunjan\",\"vaishali\",\"sumit\")  \n",
    "q[2]  \n",
    "q[-3]  \n",
    "q[15]  "
   ]
  },
  {
   "cell_type": "code",
   "execution_count": 22,
   "metadata": {},
   "outputs": [
    {
     "data": {
      "text/html": [
       "<ol class=list-inline>\n",
       "\t<li>'arpita'</li>\n",
       "\t<li>'gunjan'</li>\n",
       "\t<li>'gunjan'</li>\n",
       "\t<li>'nishka'</li>\n",
       "</ol>\n"
      ],
      "text/latex": [
       "\\begin{enumerate*}\n",
       "\\item 'arpita'\n",
       "\\item 'gunjan'\n",
       "\\item 'gunjan'\n",
       "\\item 'nishka'\n",
       "\\end{enumerate*}\n"
      ],
      "text/markdown": [
       "1. 'arpita'\n",
       "2. 'gunjan'\n",
       "3. 'gunjan'\n",
       "4. 'nishka'\n",
       "\n",
       "\n"
      ],
      "text/plain": [
       "[1] \"arpita\" \"gunjan\" \"gunjan\" \"nishka\""
      ]
     },
     "metadata": {},
     "output_type": "display_data"
    }
   ],
   "source": [
    "q<-c(\"shubham\",\"arpita\",\"nishka\",\"gunjan\",\"vaishali\",\"sumit\")  \n",
    "q[c(2,4,4,3)]    "
   ]
  },
  {
   "cell_type": "code",
   "execution_count": 24,
   "metadata": {},
   "outputs": [
    {
     "data": {
      "text/html": [
       "<ol class=list-inline>\n",
       "\t<li>'arpita'</li>\n",
       "\t<li>'nishka'</li>\n",
       "\t<li>'gunjan'</li>\n",
       "\t<li>'vaishali'</li>\n",
       "</ol>\n"
      ],
      "text/latex": [
       "\\begin{enumerate*}\n",
       "\\item 'arpita'\n",
       "\\item 'nishka'\n",
       "\\item 'gunjan'\n",
       "\\item 'vaishali'\n",
       "\\end{enumerate*}\n"
      ],
      "text/markdown": [
       "1. 'arpita'\n",
       "2. 'nishka'\n",
       "3. 'gunjan'\n",
       "4. 'vaishali'\n",
       "\n",
       "\n"
      ],
      "text/plain": [
       "[1] \"arpita\"   \"nishka\"   \"gunjan\"   \"vaishali\""
      ]
     },
     "metadata": {},
     "output_type": "display_data"
    }
   ],
   "source": [
    "q<-c(\"shubham\",\"arpita\",\"nishka\",\"gunjan\",\"vaishali\",\"sumit\")  \n",
    "b<-q[2:5]  \n",
    "b   "
   ]
  },
  {
   "cell_type": "code",
   "execution_count": 26,
   "metadata": {},
   "outputs": [
    {
     "data": {
      "text/html": [
       "<ol class=list-inline>\n",
       "\t<li>'arpita'</li>\n",
       "\t<li>'shubham'</li>\n",
       "\t<li>'nishka'</li>\n",
       "\t<li>'gunjan'</li>\n",
       "\t<li>'vaishali'</li>\n",
       "\t<li>'sumit'</li>\n",
       "</ol>\n"
      ],
      "text/latex": [
       "\\begin{enumerate*}\n",
       "\\item 'arpita'\n",
       "\\item 'shubham'\n",
       "\\item 'nishka'\n",
       "\\item 'gunjan'\n",
       "\\item 'vaishali'\n",
       "\\item 'sumit'\n",
       "\\end{enumerate*}\n"
      ],
      "text/markdown": [
       "1. 'arpita'\n",
       "2. 'shubham'\n",
       "3. 'nishka'\n",
       "4. 'gunjan'\n",
       "5. 'vaishali'\n",
       "6. 'sumit'\n",
       "\n",
       "\n"
      ],
      "text/plain": [
       "[1] \"arpita\"   \"shubham\"  \"nishka\"   \"gunjan\"   \"vaishali\" \"sumit\"   "
      ]
     },
     "metadata": {},
     "output_type": "display_data"
    }
   ],
   "source": [
    "q<-c(\"shubham\",\"arpita\",\"nishka\",\"gunjan\",\"vaishali\",\"sumit\")\n",
    "q[c(2,1,3,4,5,6)]  "
   ]
  },
  {
   "cell_type": "code",
   "execution_count": 30,
   "metadata": {},
   "outputs": [
    {
     "data": {
      "text/html": [
       "<ol class=list-inline>\n",
       "\t<li>'TensorFlow'</li>\n",
       "\t<li>'PyTorch'</li>\n",
       "</ol>\n"
      ],
      "text/latex": [
       "\\begin{enumerate*}\n",
       "\\item 'TensorFlow'\n",
       "\\item 'PyTorch'\n",
       "\\end{enumerate*}\n"
      ],
      "text/markdown": [
       "1. 'TensorFlow'\n",
       "2. 'PyTorch'\n",
       "\n",
       "\n"
      ],
      "text/plain": [
       "[1] \"TensorFlow\" \"PyTorch\"   "
      ]
     },
     "metadata": {},
     "output_type": "display_data"
    },
    {
     "data": {
      "text/html": [
       "<dl class=dl-horizontal>\n",
       "\t<dt>Start</dt>\n",
       "\t\t<dd>'TensorFlow'</dd>\n",
       "\t<dt>End</dt>\n",
       "\t\t<dd>'PyTorch'</dd>\n",
       "</dl>\n"
      ],
      "text/latex": [
       "\\begin{description*}\n",
       "\\item[Start] 'TensorFlow'\n",
       "\\item[End] 'PyTorch'\n",
       "\\end{description*}\n"
      ],
      "text/markdown": [
       "Start\n",
       ":   'TensorFlow'End\n",
       ":   'PyTorch'\n",
       "\n"
      ],
      "text/plain": [
       "       Start          End \n",
       "\"TensorFlow\"    \"PyTorch\" "
      ]
     },
     "metadata": {},
     "output_type": "display_data"
    }
   ],
   "source": [
    "z=c(\"TensorFlow\",\"PyTorch\")  \n",
    "z  \n",
    "names(z)=c(\"Start\",\"End\")  \n",
    "z  "
   ]
  },
  {
   "cell_type": "code",
   "execution_count": null,
   "metadata": {},
   "outputs": [],
   "source": []
  }
 ],
 "metadata": {
  "kernelspec": {
   "display_name": "R",
   "language": "R",
   "name": "ir"
  },
  "language_info": {
   "codemirror_mode": "r",
   "file_extension": ".r",
   "mimetype": "text/x-r-source",
   "name": "R",
   "pygments_lexer": "r",
   "version": "3.6.1"
  }
 },
 "nbformat": 4,
 "nbformat_minor": 4
}
