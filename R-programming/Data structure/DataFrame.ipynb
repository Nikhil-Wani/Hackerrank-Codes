{
 "cells": [
  {
   "cell_type": "markdown",
   "metadata": {},
   "source": [
    "# Data Frame"
   ]
  },
  {
   "cell_type": "code",
   "execution_count": 1,
   "metadata": {},
   "outputs": [
    {
     "name": "stdout",
     "output_type": "stream",
     "text": [
      "  employee_id employee_name    sal starting_date\n",
      "1           1       Shubham 623.30    2012-01-01\n",
      "2           2        Arpita 915.20    2013-09-23\n",
      "3           3        Nishka 611.00    2014-11-15\n",
      "4           4        Gunjan 729.00    2014-05-11\n",
      "5           5         Sumit 843.25    2015-03-27\n"
     ]
    }
   ],
   "source": [
    "# Creating the data frame.  \n",
    "emp.data<- data.frame(  \n",
    "employee_id = c (1:5),   \n",
    "employee_name = c(\"Shubham\",\"Arpita\",\"Nishka\",\"Gunjan\",\"Sumit\"),  \n",
    "sal = c(623.3,915.2,611.0,729.0,843.25),   \n",
    "  \n",
    "starting_date = as.Date(c(\"2012-01-01\", \"2013-09-23\", \"2014-11-15\", \"2014-05-11\",  \n",
    "      \"2015-03-27\")),  \n",
    "stringsAsFactors = FALSE  \n",
    ")  \n",
    "# Printing the data frame.            \n",
    "print(emp.data)  "
   ]
  },
  {
   "cell_type": "code",
   "execution_count": 2,
   "metadata": {},
   "outputs": [
    {
     "name": "stdout",
     "output_type": "stream",
     "text": [
      "'data.frame':\t5 obs. of  4 variables:\n",
      " $ employee_id  : int  1 2 3 4 5\n",
      " $ employee_name: chr  \"Shubham\" \"Arpita\" \"Nishka\" \"Gunjan\" ...\n",
      " $ sal          : num  623 515 611 729 843\n",
      " $ starting_date: Date, format: \"2012-01-01\" \"2013-09-23\" ...\n"
     ]
    }
   ],
   "source": [
    "# Creating the data frame.  \n",
    "emp.data<- data.frame(  \n",
    "employee_id = c (1:5),   \n",
    "employee_name = c(\"Shubham\",\"Arpita\",\"Nishka\",\"Gunjan\",\"Sumit\"),  \n",
    "sal = c(623.3,515.2,611.0,729.0,843.25),   \n",
    "  \n",
    "starting_date = as.Date(c(\"2012-01-01\", \"2013-09-23\", \"2014-11-15\", \"2014-05-11\",  \n",
    "      \"2015-03-27\")),  \n",
    "stringsAsFactors = FALSE  \n",
    ")  \n",
    "# Printing the structure of data frame.           \n",
    "str(emp.data)  \n"
   ]
  },
  {
   "cell_type": "code",
   "execution_count": 4,
   "metadata": {},
   "outputs": [
    {
     "name": "stdout",
     "output_type": "stream",
     "text": [
      "  emp.data.employee_id emp.data.sal\n",
      "1                    1       623.30\n",
      "2                    2       515.20\n",
      "3                    3       611.00\n",
      "4                    4       729.00\n",
      "5                    5       843.25\n"
     ]
    }
   ],
   "source": [
    "# Creating the data frame.  \n",
    "emp.data<- data.frame(  \n",
    "employee_id = c (1:5),   \n",
    "employee_name= c(\"Shubham\",\"Arpita\",\"Nishka\",\"Gunjan\",\"Sumit\"),  \n",
    "sal = c(623.3,515.2,611.0,729.0,843.25),   \n",
    "  \n",
    "starting_date = as.Date(c(\"2012-01-01\", \"2013-09-23\", \"2014-11-15\", \"2014-05-11\",  \n",
    "      \"2015-03-27\")),  \n",
    "stringsAsFactors = FALSE  \n",
    ")  \n",
    "# Extracting specific columns from a data frame       \n",
    "final <- data.frame(emp.data$employee_id,emp.data$sal)  \n",
    "print(final) "
   ]
  },
  {
   "cell_type": "code",
   "execution_count": 5,
   "metadata": {},
   "outputs": [
    {
     "name": "stdout",
     "output_type": "stream",
     "text": [
      "  employee_id employee_name   sal starting_date\n",
      "1           1       Shubham 623.3    2012-01-01\n",
      "  employee_id employee_name    sal starting_date\n",
      "4           4        Gunjan 729.00    2014-05-11\n",
      "5           5         Sumit 843.25    2015-03-27\n"
     ]
    }
   ],
   "source": [
    "# Creating the data frame.  \n",
    "emp.data<- data.frame(  \n",
    "employee_id = c (1:5),   \n",
    "employee_name = c(\"Shubham\",\"Arpita\",\"Nishka\",\"Gunjan\",\"Sumit\"),  \n",
    "sal = c(623.3,515.2,611.0,729.0,843.25),   \n",
    "  \n",
    "starting_date = as.Date(c(\"2012-01-01\", \"2013-09-23\", \"2014-11-15\", \"2014-05-11\",  \n",
    "      \"2015-03-27\")),  \n",
    "stringsAsFactors = FALSE  \n",
    ")  \n",
    "# Extracting first row from a data frame      \n",
    "final <- emp.data[1,]  \n",
    "print(final)  \n",
    "  \n",
    "  \n",
    "# Extracting last two row from a data frame       \n",
    "final <- emp.data[4:5,]  \n",
    "print(final)  "
   ]
  },
  {
   "cell_type": "code",
   "execution_count": 6,
   "metadata": {},
   "outputs": [
    {
     "name": "stdout",
     "output_type": "stream",
     "text": [
      "  employee_id employee_name    sal starting_date\n",
      "1           1       Shubham 623.30    2012-01-01\n",
      "2           2        Arpita 515.20    2013-09-23\n",
      "3           3        Nishka 611.00    2014-11-15\n",
      "4           4        Gunjan 729.00    2014-05-11\n",
      "5           5         Sumit 843.25    2015-03-27\n"
     ]
    },
    {
     "data": {
      "text/html": [
       "<table>\n",
       "<thead><tr><th scope=col>employee_id</th><th scope=col>employee_name</th><th scope=col>sal</th><th scope=col>starting_date</th></tr></thead>\n",
       "<tbody>\n",
       "\t<tr><td>1         </td><td>Shubham   </td><td>623.30    </td><td>2012-01-01</td></tr>\n",
       "\t<tr><td>2         </td><td>Arpita    </td><td>515.20    </td><td>2013-09-23</td></tr>\n",
       "\t<tr><td>3         </td><td>Nishka    </td><td>611.00    </td><td>2014-11-15</td></tr>\n",
       "\t<tr><td>4         </td><td>Gunjan    </td><td>729.00    </td><td>2014-05-11</td></tr>\n",
       "\t<tr><td>5         </td><td>Sumit     </td><td>843.25    </td><td>2015-03-27</td></tr>\n",
       "\t<tr><td>6         </td><td>Vaishali  </td><td>547.00    </td><td>2015-09-01</td></tr>\n",
       "</tbody>\n",
       "</table>\n"
      ],
      "text/latex": [
       "\\begin{tabular}{r|llll}\n",
       " employee\\_id & employee\\_name & sal & starting\\_date\\\\\n",
       "\\hline\n",
       "\t 1          & Shubham    & 623.30     & 2012-01-01\\\\\n",
       "\t 2          & Arpita     & 515.20     & 2013-09-23\\\\\n",
       "\t 3          & Nishka     & 611.00     & 2014-11-15\\\\\n",
       "\t 4          & Gunjan     & 729.00     & 2014-05-11\\\\\n",
       "\t 5          & Sumit      & 843.25     & 2015-03-27\\\\\n",
       "\t 6          & Vaishali   & 547.00     & 2015-09-01\\\\\n",
       "\\end{tabular}\n"
      ],
      "text/markdown": [
       "\n",
       "| employee_id | employee_name | sal | starting_date |\n",
       "|---|---|---|---|\n",
       "| 1          | Shubham    | 623.30     | 2012-01-01 |\n",
       "| 2          | Arpita     | 515.20     | 2013-09-23 |\n",
       "| 3          | Nishka     | 611.00     | 2014-11-15 |\n",
       "| 4          | Gunjan     | 729.00     | 2014-05-11 |\n",
       "| 5          | Sumit      | 843.25     | 2015-03-27 |\n",
       "| 6          | Vaishali   | 547.00     | 2015-09-01 |\n",
       "\n"
      ],
      "text/plain": [
       "  employee_id employee_name sal    starting_date\n",
       "1 1           Shubham       623.30 2012-01-01   \n",
       "2 2           Arpita        515.20 2013-09-23   \n",
       "3 3           Nishka        611.00 2014-11-15   \n",
       "4 4           Gunjan        729.00 2014-05-11   \n",
       "5 5           Sumit         843.25 2015-03-27   \n",
       "6 6           Vaishali      547.00 2015-09-01   "
      ]
     },
     "metadata": {},
     "output_type": "display_data"
    },
    {
     "data": {
      "text/html": [
       "<table>\n",
       "<thead><tr><th scope=col>employee_id</th><th scope=col>employee_name</th><th scope=col>sal</th><th scope=col>starting_date</th><th scope=col>Address</th></tr></thead>\n",
       "<tbody>\n",
       "\t<tr><td>1         </td><td>Shubham   </td><td>623.30    </td><td>2012-01-01</td><td>Moradabad </td></tr>\n",
       "\t<tr><td>2         </td><td>Arpita    </td><td>515.20    </td><td>2013-09-23</td><td>Lucknow   </td></tr>\n",
       "\t<tr><td>3         </td><td>Nishka    </td><td>611.00    </td><td>2014-11-15</td><td>Etah      </td></tr>\n",
       "\t<tr><td>4         </td><td>Gunjan    </td><td>729.00    </td><td>2014-05-11</td><td>Sambhal   </td></tr>\n",
       "\t<tr><td>5         </td><td>Sumit     </td><td>843.25    </td><td>2015-03-27</td><td>Khurja    </td></tr>\n",
       "</tbody>\n",
       "</table>\n"
      ],
      "text/latex": [
       "\\begin{tabular}{r|lllll}\n",
       " employee\\_id & employee\\_name & sal & starting\\_date & Address\\\\\n",
       "\\hline\n",
       "\t 1          & Shubham    & 623.30     & 2012-01-01 & Moradabad \\\\\n",
       "\t 2          & Arpita     & 515.20     & 2013-09-23 & Lucknow   \\\\\n",
       "\t 3          & Nishka     & 611.00     & 2014-11-15 & Etah      \\\\\n",
       "\t 4          & Gunjan     & 729.00     & 2014-05-11 & Sambhal   \\\\\n",
       "\t 5          & Sumit      & 843.25     & 2015-03-27 & Khurja    \\\\\n",
       "\\end{tabular}\n"
      ],
      "text/markdown": [
       "\n",
       "| employee_id | employee_name | sal | starting_date | Address |\n",
       "|---|---|---|---|---|\n",
       "| 1          | Shubham    | 623.30     | 2012-01-01 | Moradabad  |\n",
       "| 2          | Arpita     | 515.20     | 2013-09-23 | Lucknow    |\n",
       "| 3          | Nishka     | 611.00     | 2014-11-15 | Etah       |\n",
       "| 4          | Gunjan     | 729.00     | 2014-05-11 | Sambhal    |\n",
       "| 5          | Sumit      | 843.25     | 2015-03-27 | Khurja     |\n",
       "\n"
      ],
      "text/plain": [
       "  employee_id employee_name sal    starting_date Address  \n",
       "1 1           Shubham       623.30 2012-01-01    Moradabad\n",
       "2 2           Arpita        515.20 2013-09-23    Lucknow  \n",
       "3 3           Nishka        611.00 2014-11-15    Etah     \n",
       "4 4           Gunjan        729.00 2014-05-11    Sambhal  \n",
       "5 5           Sumit         843.25 2015-03-27    Khurja   "
      ]
     },
     "metadata": {},
     "output_type": "display_data"
    }
   ],
   "source": [
    "# Creating the data frame.  \n",
    "emp.data<- data.frame(  \n",
    "employee_id = c (1:5),   \n",
    "employee_name = c(\"Shubham\",\"Arpita\",\"Nishka\",\"Gunjan\",\"Sumit\"),  \n",
    "sal = c(623.3,515.2,611.0,729.0,843.25),   \n",
    "  \n",
    "starting_date = as.Date(c(\"2012-01-01\", \"2013-09-23\", \"2014-11-15\", \"2014-05-11\",  \n",
    "      \"2015-03-27\")),  \n",
    "stringsAsFactors = FALSE  \n",
    ")  \n",
    "print(emp.data)  \n",
    "  \n",
    "#Adding row in the data frame  \n",
    "x <- list(6,\"Vaishali\",547,\"2015-09-01\")  \n",
    "rbind(emp.data,x)  \n",
    "  \n",
    "#Adding column in the data frame  \n",
    "y <- c(\"Moradabad\",\"Lucknow\",\"Etah\",\"Sambhal\",\"Khurja\")  \n",
    "cbind(emp.data,Address=y)  "
   ]
  },
  {
   "cell_type": "code",
   "execution_count": 8,
   "metadata": {},
   "outputs": [
    {
     "name": "stdout",
     "output_type": "stream",
     "text": [
      "  employee_id employee_name    sal starting_date\n",
      "1           1       Shubham 623.30    2012-01-01\n",
      "2           2        Arpita 515.20    2013-09-23\n",
      "3           3        Nishka 611.00    2014-11-15\n",
      "4           4        Gunjan 729.00    2014-05-11\n",
      "5           5         Sumit 843.25    2015-03-27\n",
      "  employee_id employee_name    sal starting_date\n",
      "1           1       Shubham 623.30    2012-01-01\n",
      "3           3        Nishka 611.00    2014-11-15\n",
      "4           4        Gunjan 729.00    2014-05-11\n",
      "5           5         Sumit 843.25    2015-03-27\n",
      "  employee_id employee_name    sal\n",
      "1           1       Shubham 623.30\n",
      "3           3        Nishka 611.00\n",
      "4           4        Gunjan 729.00\n",
      "5           5         Sumit 843.25\n"
     ]
    }
   ],
   "source": [
    "# Creating the data frame.  \n",
    "emp.data<- data.frame(  \n",
    "employee_id = c (1:5),   \n",
    "employee_name = c(\"Shubham\",\"Arpita\",\"Nishka\",\"Gunjan\",\"Sumit\"),  \n",
    "sal = c(623.3,515.2,611.0,729.0,843.25),   \n",
    "  \n",
    "starting_date = as.Date(c(\"2012-01-01\", \"2013-09-23\", \"2014-11-15\", \"2014-05-11\",  \n",
    "      \"2015-03-27\")),  \n",
    "stringsAsFactors = FALSE  \n",
    ")  \n",
    "print(emp.data)  \n",
    "  \n",
    "#Delete rows from data frame  \n",
    "emp.data<-emp.data[-2,]  \n",
    "print(emp.data)  \n",
    "  \n",
    "#Delete column from the data frame  \n",
    "emp.data$starting_date<-NULL  \n",
    "print(emp.data)  "
   ]
  },
  {
   "cell_type": "code",
   "execution_count": 9,
   "metadata": {},
   "outputs": [
    {
     "name": "stdout",
     "output_type": "stream",
     "text": [
      "  employee_id employee_name    sal starting_date\n",
      "1           1       Shubham 623.30    2012-01-01\n",
      "2           2        Arpita 515.20    2013-09-23\n",
      "3           3        Nishka 611.00    2014-11-15\n",
      "4           4        Gunjan 729.00    2014-05-11\n",
      "5           5         Sumit 843.25    2015-03-27\n",
      "  employee_id employee_name           sal        starting_date       \n",
      " Min.   :1    Length:5           Min.   :515.2   Min.   :2012-01-01  \n",
      " 1st Qu.:2    Class :character   1st Qu.:611.0   1st Qu.:2013-09-23  \n",
      " Median :3    Mode  :character   Median :623.3   Median :2014-05-11  \n",
      " Mean   :3                       Mean   :664.4   Mean   :2014-01-14  \n",
      " 3rd Qu.:4                       3rd Qu.:729.0   3rd Qu.:2014-11-15  \n",
      " Max.   :5                       Max.   :843.2   Max.   :2015-03-27  \n"
     ]
    }
   ],
   "source": [
    "# Creating the data frame.  \n",
    "emp.data<- data.frame(  \n",
    "employee_id = c (1:5),   \n",
    "employee_name = c(\"Shubham\",\"Arpita\",\"Nishka\",\"Gunjan\",\"Sumit\"),  \n",
    "sal = c(623.3,515.2,611.0,729.0,843.25),   \n",
    "  \n",
    "starting_date = as.Date(c(\"2012-01-01\", \"2013-09-23\", \"2014-11-15\", \"2014-05-11\",  \n",
    "      \"2015-03-27\")),  \n",
    "stringsAsFactors = FALSE  \n",
    ")  \n",
    "print(emp.data)  \n",
    "  \n",
    "#Printing the summary  \n",
    "print(summary(emp.data))  "
   ]
  },
  {
   "cell_type": "code",
   "execution_count": null,
   "metadata": {},
   "outputs": [],
   "source": []
  }
 ],
 "metadata": {
  "kernelspec": {
   "display_name": "R",
   "language": "R",
   "name": "ir"
  },
  "language_info": {
   "codemirror_mode": "r",
   "file_extension": ".r",
   "mimetype": "text/x-r-source",
   "name": "R",
   "pygments_lexer": "r",
   "version": "3.6.1"
  }
 },
 "nbformat": 4,
 "nbformat_minor": 4
}
