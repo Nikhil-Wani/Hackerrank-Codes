{
 "cells": [
  {
   "cell_type": "markdown",
   "metadata": {},
   "source": [
    "# Factors"
   ]
  },
  {
   "cell_type": "code",
   "execution_count": 2,
   "metadata": {},
   "outputs": [
    {
     "name": "stdout",
     "output_type": "stream",
     "text": [
      " [1] \"Shubham\" \"Nishka\"  \"Arpita\"  \"Nishka\"  \"Shubham\" \"Sumit\"   \"Nishka\" \n",
      " [8] \"Shubham\" \"Sumit\"   \"Arpita\"  \"Sumit\"  \n",
      "[1] FALSE\n",
      " [1] Shubham Nishka  Arpita  Nishka  Shubham Sumit   Nishka  Shubham Sumit  \n",
      "[10] Arpita  Sumit  \n",
      "Levels: Arpita Nishka Shubham Sumit\n",
      "[1] TRUE\n"
     ]
    }
   ],
   "source": [
    "# Creating a vector as input.  \n",
    "data <- c(\"Shubham\",\"Nishka\",\"Arpita\",\"Nishka\",\"Shubham\",\"Sumit\",\"Nishka\",\"Shubham\",\"Sumit\",\"Arpita\",\"Sumit\")  \n",
    "  \n",
    "print(data) \n",
    "print(is.factor(data))  \n",
    "  \n",
    "# Applying the factor function.  \n",
    "factor_data<- factor(data)  \n",
    "  \n",
    "print(factor_data)  \n",
    "print(is.factor(factor_data))  "
   ]
  },
  {
   "cell_type": "code",
   "execution_count": 3,
   "metadata": {},
   "outputs": [
    {
     "name": "stdout",
     "output_type": "stream",
     "text": [
      " [1] Shubham Nishka  Arpita  Nishka  Shubham Sumit   Nishka  Shubham Sumit  \n",
      "[10] Arpita  Sumit  \n",
      "Levels: Arpita Nishka Shubham Sumit\n",
      "[1] Nishka\n",
      "Levels: Arpita Nishka Shubham Sumit\n",
      "[1] Shubham Nishka \n",
      "Levels: Arpita Nishka Shubham Sumit\n",
      " [1] Shubham Nishka  Arpita  Shubham Sumit   Nishka  Shubham Sumit   Arpita \n",
      "[10] Sumit  \n",
      "Levels: Arpita Nishka Shubham Sumit\n",
      "[1] Shubham Shubham Sumit   Nishka  Sumit  \n",
      "Levels: Arpita Nishka Shubham Sumit\n"
     ]
    }
   ],
   "source": [
    "# Creating a vector as input.  \n",
    "data <- c(\"Shubham\",\"Nishka\",\"Arpita\",\"Nishka\",\"Shubham\",\"Sumit\",\"Nishka\",\"Shubham\",\"Sumit\",\"Arpita\",\"Sumit\")  \n",
    "  \n",
    "# Applying the factor function.  \n",
    "factor_data<- factor(data)  \n",
    "  \n",
    "#Printing all elements of factor  \n",
    "print(factor_data)  \n",
    "  \n",
    "#Accessing 4th element of factor  \n",
    "print(factor_data[4])  \n",
    "  \n",
    "#Accessing 5th and 7th element  \n",
    "print(factor_data[c(5,7)])  \n",
    "  \n",
    "#Accessing all elemcent except 4th one  \n",
    "print(factor_data[-4])  \n",
    "  \n",
    "#Accessing elements using logical vector  \n",
    "print(factor_data[c(TRUE,FALSE,FALSE,FALSE,TRUE,TRUE,TRUE,FALSE,FALSE,FALSE,TRUE)])  "
   ]
  },
  {
   "cell_type": "code",
   "execution_count": 4,
   "metadata": {},
   "outputs": [
    {
     "name": "stdout",
     "output_type": "stream",
     "text": [
      "[1] Shubham Nishka  Arpita  Nishka  Shubham\n",
      "Levels: Arpita Nishka Shubham\n",
      "[1] Shubham Nishka  Arpita  Arpita  Shubham\n",
      "Levels: Arpita Nishka Shubham\n"
     ]
    },
    {
     "name": "stderr",
     "output_type": "stream",
     "text": [
      "Warning message in `[<-.factor`(`*tmp*`, 4, value = \"Gunjan\"):\n",
      "\"invalid factor level, NA generated\""
     ]
    },
    {
     "name": "stdout",
     "output_type": "stream",
     "text": [
      "[1] Shubham Nishka  Arpita  <NA>    Shubham\n",
      "Levels: Arpita Nishka Shubham\n",
      "[1] Shubham Nishka  Arpita  Gunjan  Shubham\n",
      "Levels: Arpita Nishka Shubham Gunjan\n"
     ]
    }
   ],
   "source": [
    "# Creating a vector as input.  \n",
    "data <- c(\"Shubham\",\"Nishka\",\"Arpita\",\"Nishka\",\"Shubham\")  \n",
    "  \n",
    "# Applying the factor function.  \n",
    "factor_data<- factor(data)  \n",
    "  \n",
    "#Printing all elements of factor  \n",
    "print(factor_data)  \n",
    "  \n",
    "#Change 4th element of factor with sumit  \n",
    "factor_data[4] <-\"Arpita\"  \n",
    "print(factor_data)  \n",
    "  \n",
    "#change 4th element of factor with \"Gunjan\"  \n",
    "factor_data[4] <- \"Gunjan\"    # cannot assign values outside levels  \n",
    "print(factor_data)  \n",
    "  \n",
    "#Adding the value to the level  \n",
    "levels(factor_data) <- c(levels(factor_data),\"Gunjan\")#Adding new level  \n",
    "factor_data[4] <- \"Gunjan\"  \n",
    "print(factor_data)  "
   ]
  },
  {
   "cell_type": "code",
   "execution_count": 5,
   "metadata": {},
   "outputs": [
    {
     "name": "stdout",
     "output_type": "stream",
     "text": [
      "[1] Nishka  Gunjan  Shubham Arpita  Arpita  Sumit   Gunjan  Shubham\n",
      "Levels: Arpita Gunjan Nishka Shubham Sumit\n",
      "[1] Nishka  Gunjan  Shubham Arpita  Arpita  Sumit   Gunjan  Shubham\n",
      "Levels: Gunjan Nishka Arpita Shubham Sumit\n"
     ]
    }
   ],
   "source": [
    "data <- c(\"Nishka\",\"Gunjan\",\"Shubham\",\"Arpita\",\"Arpita\",\"Sumit\",\"Gunjan\",\"Shubham\")  \n",
    "# Creating the factors  \n",
    "factor_data<- factor(data)  \n",
    "print(factor_data)  \n",
    "  \n",
    "# Apply the factor function with the required order of the level.  \n",
    "new_order_factor<- factor(factor_data,levels = c(\"Gunjan\",\"Nishka\",\"Arpita\",\"Shubham\",\"Sumit\"))  \n",
    "print(new_order_factor)  "
   ]
  },
  {
   "cell_type": "code",
   "execution_count": null,
   "metadata": {},
   "outputs": [],
   "source": []
  }
 ],
 "metadata": {
  "kernelspec": {
   "display_name": "R",
   "language": "R",
   "name": "ir"
  },
  "language_info": {
   "codemirror_mode": "r",
   "file_extension": ".r",
   "mimetype": "text/x-r-source",
   "name": "R",
   "pygments_lexer": "r",
   "version": "3.6.1"
  }
 },
 "nbformat": 4,
 "nbformat_minor": 4
}
