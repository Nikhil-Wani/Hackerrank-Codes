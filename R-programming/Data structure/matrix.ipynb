{
 "cells": [
  {
   "cell_type": "markdown",
   "metadata": {},
   "source": [
    "# Matrix"
   ]
  },
  {
   "cell_type": "code",
   "execution_count": 1,
   "metadata": {},
   "outputs": [
    {
     "data": {
      "text/html": [
       "<table>\n",
       "<tbody>\n",
       "\t<tr><td>11</td><td>13</td><td>15</td></tr>\n",
       "\t<tr><td>12</td><td>14</td><td>16</td></tr>\n",
       "</tbody>\n",
       "</table>\n"
      ],
      "text/latex": [
       "\\begin{tabular}{lll}\n",
       "\t 11 & 13 & 15\\\\\n",
       "\t 12 & 14 & 16\\\\\n",
       "\\end{tabular}\n"
      ],
      "text/markdown": [
       "\n",
       "| 11 | 13 | 15 |\n",
       "| 12 | 14 | 16 |\n",
       "\n"
      ],
      "text/plain": [
       "     [,1] [,2] [,3]\n",
       "[1,] 11   13   15  \n",
       "[2,] 12   14   16  "
      ]
     },
     "metadata": {},
     "output_type": "display_data"
    }
   ],
   "source": [
    "matrix1<-matrix(c(11, 13, 15, 12, 14, 16),nrow =2, ncol =3, byrow = TRUE)  \n",
    "matrix1  "
   ]
  },
  {
   "cell_type": "code",
   "execution_count": 3,
   "metadata": {},
   "outputs": [
    {
     "name": "stdout",
     "output_type": "stream",
     "text": [
      "     col1 col2 col3\n",
      "row1    5    6    7\n",
      "row2    8    9   10\n",
      "row3   11   12   13\n",
      "row4   14   15   16\n",
      "[1] 12\n",
      "col1 col2 col3 \n",
      "  11   12   13 \n",
      "row1 row2 row3 row4 \n",
      "   6    9   12   15 \n"
     ]
    }
   ],
   "source": [
    "# Defining the column and row names.  \n",
    "row_names = c(\"row1\", \"row2\", \"row3\", \"row4\")  \n",
    "col_names = c(\"col1\", \"col2\", \"col3\")  \n",
    "#Creating matrix   \n",
    "R <- matrix(c(5:16), nrow = 4, byrow = TRUE, dimnames = list(row_names, col_names))  \n",
    "print(R)  \n",
    "  \n",
    "#Accessing element present on 3rd row and 2nd column  \n",
    "print(R[3,2])  \n",
    "  \n",
    "#Accessing element present in 3rd row  \n",
    "print(R[3,])  \n",
    "  \n",
    "#Accessing element present in 2nd column  \n",
    "print(R[,2])  "
   ]
  },
  {
   "cell_type": "code",
   "execution_count": 4,
   "metadata": {},
   "outputs": [
    {
     "name": "stdout",
     "output_type": "stream",
     "text": [
      "     col1 col2 col3\n",
      "row1    5    6    7\n",
      "row2    8    9   10\n",
      "row3   11   12   13\n",
      "row4   14   15   16\n",
      "     col1 col2 col3\n",
      "row1    5    6    7\n",
      "row2    8    9   10\n",
      "row3   11   20   13\n",
      "row4   14   15   16\n"
     ]
    }
   ],
   "source": [
    "# Defining the column and row names.  \n",
    "row_names = c(\"row1\", \"row2\", \"row3\", \"row4\")  \n",
    "ccol_names = c(\"col1\", \"col2\", \"col3\")  \n",
    "  \n",
    "R <- matrix(c(5:16), nrow = 4, byrow = TRUE, dimnames = list(row_names, col_names))  \n",
    "print(R)  \n",
    "  \n",
    "#Assigning value 20 to the element at 3d roe and 2nd column  \n",
    "R[3,2]<-20  \n",
    "print(R)  "
   ]
  },
  {
   "cell_type": "code",
   "execution_count": 5,
   "metadata": {},
   "outputs": [
    {
     "name": "stdout",
     "output_type": "stream",
     "text": [
      "     col1 col2 col3\n",
      "row1    5    6    7\n",
      "row2    8    9   10\n",
      "row3   11   12   13\n",
      "row4   14   15   16\n"
     ]
    },
    {
     "data": {
      "text/html": [
       "<table>\n",
       "<thead><tr><th></th><th scope=col>col1</th><th scope=col>col2</th><th scope=col>col3</th></tr></thead>\n",
       "<tbody>\n",
       "\t<tr><th scope=row>row1</th><td> 5</td><td> 6</td><td> 7</td></tr>\n",
       "\t<tr><th scope=row>row2</th><td> 8</td><td> 9</td><td>10</td></tr>\n",
       "\t<tr><th scope=row>row3</th><td>11</td><td>12</td><td>13</td></tr>\n",
       "\t<tr><th scope=row>row4</th><td>14</td><td>15</td><td>16</td></tr>\n",
       "\t<tr><th scope=row></th><td>17</td><td>18</td><td>19</td></tr>\n",
       "</tbody>\n",
       "</table>\n"
      ],
      "text/latex": [
       "\\begin{tabular}{r|lll}\n",
       "  & col1 & col2 & col3\\\\\n",
       "\\hline\n",
       "\trow1 &  5 &  6 &  7\\\\\n",
       "\trow2 &  8 &  9 & 10\\\\\n",
       "\trow3 & 11 & 12 & 13\\\\\n",
       "\trow4 & 14 & 15 & 16\\\\\n",
       "\t & 17 & 18 & 19\\\\\n",
       "\\end{tabular}\n"
      ],
      "text/markdown": [
       "\n",
       "| <!--/--> | col1 | col2 | col3 |\n",
       "|---|---|---|---|\n",
       "| row1 |  5 |  6 |  7 |\n",
       "| row2 |  8 |  9 | 10 |\n",
       "| row3 | 11 | 12 | 13 |\n",
       "| row4 | 14 | 15 | 16 |\n",
       "|  | 17 | 18 | 19 |\n",
       "\n"
      ],
      "text/plain": [
       "     col1 col2 col3\n",
       "row1  5    6    7  \n",
       "row2  8    9   10  \n",
       "row3 11   12   13  \n",
       "row4 14   15   16  \n",
       "     17   18   19  "
      ]
     },
     "metadata": {},
     "output_type": "display_data"
    },
    {
     "data": {
      "text/html": [
       "<table>\n",
       "<thead><tr><th></th><th scope=col>col1</th><th scope=col>col2</th><th scope=col>col3</th><th scope=col></th></tr></thead>\n",
       "<tbody>\n",
       "\t<tr><th scope=row>row1</th><td> 5</td><td> 6</td><td> 7</td><td>17</td></tr>\n",
       "\t<tr><th scope=row>row2</th><td> 8</td><td> 9</td><td>10</td><td>18</td></tr>\n",
       "\t<tr><th scope=row>row3</th><td>11</td><td>12</td><td>13</td><td>19</td></tr>\n",
       "\t<tr><th scope=row>row4</th><td>14</td><td>15</td><td>16</td><td>20</td></tr>\n",
       "</tbody>\n",
       "</table>\n"
      ],
      "text/latex": [
       "\\begin{tabular}{r|llll}\n",
       "  & col1 & col2 & col3 & \\\\\n",
       "\\hline\n",
       "\trow1 &  5 &  6 &  7 & 17\\\\\n",
       "\trow2 &  8 &  9 & 10 & 18\\\\\n",
       "\trow3 & 11 & 12 & 13 & 19\\\\\n",
       "\trow4 & 14 & 15 & 16 & 20\\\\\n",
       "\\end{tabular}\n"
      ],
      "text/markdown": [
       "\n",
       "| <!--/--> | col1 | col2 | col3 |  |\n",
       "|---|---|---|---|---|\n",
       "| row1 |  5 |  6 |  7 | 17 |\n",
       "| row2 |  8 |  9 | 10 | 18 |\n",
       "| row3 | 11 | 12 | 13 | 19 |\n",
       "| row4 | 14 | 15 | 16 | 20 |\n",
       "\n"
      ],
      "text/plain": [
       "     col1 col2 col3   \n",
       "row1  5    6    7   17\n",
       "row2  8    9   10   18\n",
       "row3 11   12   13   19\n",
       "row4 14   15   16   20"
      ]
     },
     "metadata": {},
     "output_type": "display_data"
    },
    {
     "data": {
      "text/html": [
       "<table>\n",
       "<thead><tr><th></th><th scope=col>row1</th><th scope=col>row2</th><th scope=col>row3</th><th scope=col>row4</th></tr></thead>\n",
       "<tbody>\n",
       "\t<tr><th scope=row>col1</th><td>5 </td><td> 8</td><td>11</td><td>14</td></tr>\n",
       "\t<tr><th scope=row>col2</th><td>6 </td><td> 9</td><td>12</td><td>15</td></tr>\n",
       "\t<tr><th scope=row>col3</th><td>7 </td><td>10</td><td>13</td><td>16</td></tr>\n",
       "</tbody>\n",
       "</table>\n"
      ],
      "text/latex": [
       "\\begin{tabular}{r|llll}\n",
       "  & row1 & row2 & row3 & row4\\\\\n",
       "\\hline\n",
       "\tcol1 & 5  &  8 & 11 & 14\\\\\n",
       "\tcol2 & 6  &  9 & 12 & 15\\\\\n",
       "\tcol3 & 7  & 10 & 13 & 16\\\\\n",
       "\\end{tabular}\n"
      ],
      "text/markdown": [
       "\n",
       "| <!--/--> | row1 | row2 | row3 | row4 |\n",
       "|---|---|---|---|---|\n",
       "| col1 | 5  |  8 | 11 | 14 |\n",
       "| col2 | 6  |  9 | 12 | 15 |\n",
       "| col3 | 7  | 10 | 13 | 16 |\n",
       "\n"
      ],
      "text/plain": [
       "     row1 row2 row3 row4\n",
       "col1 5     8   11   14  \n",
       "col2 6     9   12   15  \n",
       "col3 7    10   13   16  "
      ]
     },
     "metadata": {},
     "output_type": "display_data"
    },
    {
     "name": "stdout",
     "output_type": "stream",
     "text": [
      "     [,1] [,2] [,3] [,4] [,5] [,6] [,7] [,8] [,9] [,10] [,11] [,12]\n",
      "[1,]    5    8   11   14    6    9   12   15    7    10    13    16\n"
     ]
    }
   ],
   "source": [
    "# Defining the column and row names.  \n",
    "row_names = c(\"row1\", \"row2\", \"row3\", \"row4\")  \n",
    "ccol_names = c(\"col1\", \"col2\", \"col3\")  \n",
    "  \n",
    "R <- matrix(c(5:16), nrow = 4, byrow = TRUE, dimnames = list(row_names, col_names))  \n",
    "print(R)  \n",
    "  \n",
    "#Adding row  \n",
    "rbind(R,c(17,18,19))  \n",
    "  \n",
    "#Adding column  \n",
    "cbind(R,c(17,18,19,20))  \n",
    "  \n",
    "#transpose of the matrix using the t() function:  \n",
    "t(R)  \n",
    "  \n",
    "#Modifying the dimension of the matrix using the dim() function  \n",
    "dim(R)<-c(1,12)  \n",
    "print(R)  "
   ]
  },
  {
   "cell_type": "code",
   "execution_count": 6,
   "metadata": {},
   "outputs": [
    {
     "name": "stdout",
     "output_type": "stream",
     "text": [
      "     [,1] [,2] [,3]\n",
      "[1,]    6   14   22\n",
      "[2,]    8   16   24\n",
      "[3,]   10   18   26\n",
      "[4,]   12   20   28\n",
      "     [,1] [,2] [,3]\n",
      "[1,]    4    4    4\n",
      "[2,]    4    4    4\n",
      "[3,]    4    4    4\n",
      "[4,]    4    4    4\n",
      "     [,1] [,2] [,3]\n",
      "[1,]    5   45  117\n",
      "[2,]   12   60  140\n",
      "[3,]   21   77  165\n",
      "[4,]   32   96  192\n",
      "     [,1] [,2] [,3]\n",
      "[1,]   60  108  156\n",
      "[2,]   72  120  168\n",
      "[3,]   84  132  180\n",
      "[4,]   96  144  192\n",
      "         [,1]     [,2]     [,3]\n",
      "[1,] 5.000000 1.800000 1.444444\n",
      "[2,] 3.000000 1.666667 1.400000\n",
      "[3,] 2.333333 1.571429 1.363636\n",
      "[4,] 2.000000 1.500000 1.333333\n"
     ]
    }
   ],
   "source": [
    "R <- matrix(c(5:16), nrow = 4,ncol=3)  \n",
    "S <- matrix(c(1:12), nrow = 4,ncol=3)  \n",
    "  \n",
    "#Addition  \n",
    "sum<-R+S  \n",
    "print(sum)  \n",
    "  \n",
    "#Subtraction  \n",
    "sub<-R-S  \n",
    "print(sub)  \n",
    "  \n",
    "#Multiplication  \n",
    "mul<-R*S  \n",
    "print(mul)  \n",
    "  \n",
    "#Multiplication by constant  \n",
    "mul1<-R*12  \n",
    "print(mul1)  \n",
    "  \n",
    "#Division  \n",
    "div<-R/S  \n",
    "print(div)  "
   ]
  },
  {
   "cell_type": "code",
   "execution_count": null,
   "metadata": {},
   "outputs": [],
   "source": []
  }
 ],
 "metadata": {
  "kernelspec": {
   "display_name": "R",
   "language": "R",
   "name": "ir"
  },
  "language_info": {
   "codemirror_mode": "r",
   "file_extension": ".r",
   "mimetype": "text/x-r-source",
   "name": "R",
   "pygments_lexer": "r",
   "version": "3.6.1"
  }
 },
 "nbformat": 4,
 "nbformat_minor": 4
}
