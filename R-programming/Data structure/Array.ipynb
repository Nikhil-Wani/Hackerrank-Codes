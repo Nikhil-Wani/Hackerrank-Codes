{
 "cells": [
  {
   "cell_type": "code",
   "execution_count": 1,
   "metadata": {},
   "outputs": [],
   "source": [
    "# Array"
   ]
  },
  {
   "cell_type": "code",
   "execution_count": 9,
   "metadata": {},
   "outputs": [
    {
     "name": "stdout",
     "output_type": "stream",
     "text": [
      ", , 1\n",
      "\n",
      "     [,1] [,2] [,3]\n",
      "[1,]    1   10   13\n",
      "[2,]    3   11   14\n",
      "[3,]    5   12   15\n",
      "\n",
      ", , 2\n",
      "\n",
      "     [,1] [,2] [,3]\n",
      "[1,]    1   10   13\n",
      "[2,]    3   11   14\n",
      "[3,]    5   12   15\n",
      "\n"
     ]
    }
   ],
   "source": [
    "#Creating two vectors of different lengths  \n",
    "vec1 <-c(1,3,5)  \n",
    "vec2 <-c(10,11,12,13,14,15)  \n",
    "  \n",
    "#Taking these vectors as input to the array   \n",
    "res <- array(c(vec1,vec2),dim=c(3,3,2))  \n",
    "print(res)  "
   ]
  },
  {
   "cell_type": "code",
   "execution_count": 10,
   "metadata": {},
   "outputs": [
    {
     "name": "stdout",
     "output_type": "stream",
     "text": [
      ", , Matrix1\n",
      "\n",
      "     Col1 Col2 Col3\n",
      "Row1    1   10   13\n",
      "Row2    3   11   14\n",
      "Row3    5   12   15\n",
      "\n",
      ", , Matrix2\n",
      "\n",
      "     Col1 Col2 Col3\n",
      "Row1    1   10   13\n",
      "Row2    3   11   14\n",
      "Row3    5   12   15\n",
      "\n"
     ]
    }
   ],
   "source": [
    "#Creating two vectors of different lengths  \n",
    "vec1 <-c(1,3,5)  \n",
    "vec2 <-c(10,11,12,13,14,15)  \n",
    "  \n",
    "#Initializing names for rows, columns and matrices  \n",
    "col_names <- c(\"Col1\",\"Col2\",\"Col3\")  \n",
    "row_names <- c(\"Row1\",\"Row2\",\"Row3\")  \n",
    "matrix_names <- c(\"Matrix1\",\"Matrix2\")  \n",
    "  \n",
    "#Taking the vectors as input to the array   \n",
    "res <- array(c(vec1,vec2),dim=c(3,3,2),dimnames=list(row_names,col_names,matrix_names))  \n",
    "print(res)  "
   ]
  },
  {
   "cell_type": "code",
   "execution_count": 11,
   "metadata": {},
   "outputs": [
    {
     "name": "stdout",
     "output_type": "stream",
     "text": [
      ", , 1\n",
      "\n",
      "     [,1] [,2] [,3]\n",
      "[1,]    1   10   13\n",
      "[2,]    3   11   14\n",
      "[3,]    5   12   15\n",
      "\n",
      ", , 2\n",
      "\n",
      "     [,1] [,2] [,3]\n",
      "[1,]    1   10   13\n",
      "[2,]    3   11   14\n",
      "[3,]    5   12   15\n",
      "\n",
      ", , 1\n",
      "\n",
      "     [,1] [,2] [,3]\n",
      "[1,]    8   16   46\n",
      "[2,]    4   73   36\n",
      "[3,]    7   48   73\n",
      "\n",
      ", , 2\n",
      "\n",
      "     [,1] [,2] [,3]\n",
      "[1,]    8   16   46\n",
      "[2,]    4   73   36\n",
      "[3,]    7   48   73\n",
      "\n",
      "     [,1] [,2] [,3]\n",
      "[1,]    9   26   59\n",
      "[2,]    7   84   50\n",
      "[3,]   12   60   88\n"
     ]
    }
   ],
   "source": [
    "#Creating two vectors of different lengths  \n",
    "vec1 <-c(1,3,5)  \n",
    "vec2 <-c(10,11,12,13,14,15)  \n",
    "  \n",
    "#Taking the vectors as input to the array1   \n",
    "res1 <- array(c(vec1,vec2),dim=c(3,3,2))  \n",
    "print(res1)  \n",
    "  \n",
    "#Creating two vectors of different lengths  \n",
    "vec1 <-c(8,4,7)  \n",
    "vec2 <-c(16,73,48,46,36,73)  \n",
    "  \n",
    "#Taking the vectors as input to the array2   \n",
    "res2 <- array(c(vec1,vec2),dim=c(3,3,2))  \n",
    "print(res2)  \n",
    "  \n",
    "#Creating matrices from these arrays  \n",
    "mat1 <- res1[,,2]  \n",
    "mat2 <- res2[,,2]  \n",
    "res3 <- mat1+mat2  \n",
    "print(res3)  "
   ]
  },
  {
   "cell_type": "code",
   "execution_count": 16,
   "metadata": {},
   "outputs": [
    {
     "name": "stdout",
     "output_type": "stream",
     "text": [
      ", , 1\n",
      "\n",
      "     [,1] [,2] [,3]\n",
      "[1,]    1   10   13\n",
      "[2,]    3   11   14\n",
      "[3,]    5   12   15\n",
      "\n",
      ", , 2\n",
      "\n",
      "     [,1] [,2] [,3]\n",
      "[1,]    1   10   13\n",
      "[2,]    3   11   14\n",
      "[3,]    5   12   15\n",
      "\n",
      "[1] 48 56 64\n"
     ]
    }
   ],
   "source": [
    "#Creating two vectors of different lengths  \n",
    "vec1 <-c(1,3,5)  \n",
    "vec2 <-c(10,11,12,13,14,15)  \n",
    "  \n",
    "#Taking the vectors as input to the array1   \n",
    "res1 <- array(c(vec1,vec2),dim=c(3,3,2))  \n",
    "print(res1)  \n",
    "  \n",
    "#using apply function   \n",
    "result <- apply(res1,c(1),sum)  \n",
    "print(result)  "
   ]
  },
  {
   "cell_type": "code",
   "execution_count": null,
   "metadata": {},
   "outputs": [],
   "source": []
  }
 ],
 "metadata": {
  "kernelspec": {
   "display_name": "R",
   "language": "R",
   "name": "ir"
  },
  "language_info": {
   "codemirror_mode": "r",
   "file_extension": ".r",
   "mimetype": "text/x-r-source",
   "name": "R",
   "pygments_lexer": "r",
   "version": "3.6.1"
  }
 },
 "nbformat": 4,
 "nbformat_minor": 4
}
